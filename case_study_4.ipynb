{
 "cells": [
  {
   "cell_type": "code",
   "execution_count": null,
   "metadata": {},
   "outputs": [],
   "source": [
    "import pandas as pd\n",
    "import numpy as np"
   ]
  },
  {
   "cell_type": "code",
   "execution_count": null,
   "metadata": {},
   "outputs": [],
   "source": [
    "anime_data = pd.read_csv('cleaned_dataset.csv')\n",
    "\n",
    "# Significance level\n",
    "alpha = 0.1"
   ]
  },
  {
   "cell_type": "code",
   "execution_count": null,
   "metadata": {},
   "outputs": [],
   "source": [
    "# Goodness of fit"
   ]
  },
  {
   "cell_type": "code",
   "execution_count": null,
   "metadata": {},
   "outputs": [],
   "source": [
    "#sample size\n",
    "sample_size = 61"
   ]
  },
  {
   "cell_type": "code",
   "execution_count": null,
   "metadata": {},
   "outputs": [],
   "source": [
    "print(\"\\nGoodness of Fit\")\n",
    "\n",
    "print(\"\\nH0 : It is good fit.\")\n",
    "print(\"\\nH1 : It is not good fit.\\n\")\n",
    "\n",
    "episodes_subset = anime_data['score'].head(sample_size)\n",
    "\n",
    "episodes_subset = episodes_subset[episodes_subset > 1]"
   ]
  },
  {
   "cell_type": "code",
   "execution_count": null,
   "metadata": {},
   "outputs": [],
   "source": [
    "animes = episodes_subset.tolist()\n",
    "\n",
    "print(animes)"
   ]
  },
  {
   "cell_type": "code",
   "execution_count": null,
   "metadata": {},
   "outputs": [],
   "source": [
    "print(len(animes))"
   ]
  },
  {
   "cell_type": "code",
   "execution_count": null,
   "metadata": {},
   "outputs": [],
   "source": [
    "expected_value = 7\n",
    "print(\"Expected val:\",expected_value)"
   ]
  },
  {
   "cell_type": "code",
   "execution_count": null,
   "metadata": {},
   "outputs": [],
   "source": [
    "chi_sq = 0\n",
    "for i, actual_value in enumerate(animes):\n",
    "    chi_sq+=((actual_value-expected_value)**2)/expected_value\n",
    "\n",
    "print(\"Chi_sq_cal:\",chi_sq)"
   ]
  },
  {
   "cell_type": "code",
   "execution_count": null,
   "metadata": {},
   "outputs": [],
   "source": [
    "# Chi_sq_tab for dof = 61 - 1 = 60 at alpha 0.1 is 74.397\n",
    "chi_sq_tab = 74.397\n",
    "print(\"Chi_sq_tab:\",chi_sq_tab)\n",
    "\n",
    "if chi_sq > chi_sq_tab:\n",
    "    print(f\"\\nReject the null hypothesis. Hence, it is not a good fit.\")\n",
    "else:\n",
    "    print(f\"\\nAccept the null hypothesis. Hence, it is a good fit.\")"
   ]
  },
  {
   "cell_type": "code",
   "execution_count": null,
   "metadata": {},
   "outputs": [],
   "source": [
    "# Test for independence"
   ]
  },
  {
   "cell_type": "code",
   "execution_count": null,
   "metadata": {},
   "outputs": [],
   "source": [
    "print(\"\\nTest for Independence\")\n",
    "\n",
    "print(\"\\nH0: There is no significant dependence.\")\n",
    "print(\"\\nH1: There is a significant dependence.\")"
   ]
  },
  {
   "cell_type": "code",
   "execution_count": null,
   "metadata": {},
   "outputs": [],
   "source": [
    "subset = anime_data.head(3)\n",
    "\n",
    "# Extract values from 'ranked' and 'score' columns\n",
    "ranked_values = subset['episodes'].values\n",
    "score_values = subset['score'].values\n",
    "\n",
    "# Create a matrix 'table' using the first three values\n",
    "table = pd.DataFrame({'episodes': ranked_values, 'score': score_values})\n",
    "\n",
    "# Display the resulting table\n",
    "print(table)"
   ]
  },
  {
   "cell_type": "code",
   "execution_count": null,
   "metadata": {},
   "outputs": [],
   "source": [
    "# Observed values\n",
    "observed_table = table.values\n",
    "\n",
    "# Calculate expected values\n",
    "row_totals = observed_table.sum(axis=1)\n",
    "print(\"Row totals:\",row_totals)\n",
    "col_totals = observed_table.sum(axis=0)\n",
    "print(\"Column totals:\",col_totals)\n",
    "total_sum = observed_table.sum()\n",
    "print(\"Total sum:\",total_sum)\n",
    "\n",
    "expected_table = np.outer(row_totals, col_totals) / total_sum\n",
    "\n",
    "print(\"expected table:\",expected_table)"
   ]
  },
  {
   "cell_type": "code",
   "execution_count": null,
   "metadata": {},
   "outputs": [],
   "source": [
    "# The chi-squared statistic\n",
    "chi_squared_stat = ((observed_table - expected_table)**2 / expected_table).sum()\n",
    "print(\"Chi_sq_cal:\",chi_squared_stat)\n",
    "\n",
    "# Degrees of freedom\n",
    "degrees_of_freedom = (observed_table.shape[0] - 1) * (observed_table.shape[1] - 1)\n",
    "\n",
    "print(\"Degrees of freedom:\",degrees_of_freedom)"
   ]
  },
  {
   "cell_type": "code",
   "execution_count": null,
   "metadata": {},
   "outputs": [],
   "source": [
    "critical_value = 4.605\n",
    "print(\"Critical val:\",critical_value)"
   ]
  },
  {
   "cell_type": "code",
   "execution_count": null,
   "metadata": {},
   "outputs": [],
   "source": [
    "if chi_squared_stat > critical_value:\n",
    "    print(\"Reject the null hypothesis. There is a significant relationship between the variables.\")\n",
    "else:\n",
    "    print(\"Fail to reject the null hypothesis. There is no significant relationship between the variables.\")"
   ]
  },
  {
   "cell_type": "code",
   "execution_count": null,
   "metadata": {},
   "outputs": [],
   "source": [
    "# Test for Homogeneity"
   ]
  },
  {
   "cell_type": "code",
   "execution_count": null,
   "metadata": {},
   "outputs": [],
   "source": [
    "print(\"\\nTest for Homogeneity\")\n",
    "\n",
    "print(\"\\nH0: The means are equal.\")\n",
    "print(\"\\nH1: There is a significant difference in means.\")"
   ]
  },
  {
   "cell_type": "code",
   "execution_count": null,
   "metadata": {},
   "outputs": [],
   "source": [
    "# Observed values\n",
    "observed_table = table.values\n",
    "\n",
    "# Calculate Q statistic\n",
    "Q_statistic = (observed_table.var(axis=1) * (observed_table.shape[0] - 1) / observed_table.mean(axis=1)).sum()\n",
    "print(\"Calculated:\",Q_statistic)\n",
    "\n",
    "# Calculate degrees of freedom\n",
    "degrees_of_freedom = observed_table.shape[0] - 1\n",
    "print(\"DOF:\",degrees_of_freedom)"
   ]
  },
  {
   "cell_type": "code",
   "execution_count": null,
   "metadata": {},
   "outputs": [],
   "source": [
    "\n",
    "# Critical value from the chi-squared distribution\n",
    "critical_value = 4.605\n",
    "print(\"Tabulated val:\",critical_value)\n",
    "\n",
    "# Compare Q statistic with critical value\n",
    "if Q_statistic > critical_value:\n",
    "    print(\"\\nReject the null hypothesis. There is a significant difference in means between the groups.\")\n",
    "else:\n",
    "    print(\"\\nFail to reject the null hypothesis. There is no significant difference in means between the groups.\")"
   ]
  },
  {
   "cell_type": "code",
   "execution_count": null,
   "metadata": {},
   "outputs": [],
   "source": [
    "# 2x2 Contingency Table"
   ]
  },
  {
   "cell_type": "code",
   "execution_count": null,
   "metadata": {},
   "outputs": [],
   "source": [
    "print(\"\\n2x2 Contingency Table\")\n",
    "\n",
    "print(\"\\nH0: Proportions are same.\")\n",
    "print(\"\\nH1: Proportions are not same.\\n\")"
   ]
  },
  {
   "cell_type": "code",
   "execution_count": null,
   "metadata": {},
   "outputs": [],
   "source": [
    "subset = anime_data.head(2)\n",
    "\n",
    "# Extract values from 'ranked' and 'score' columns\n",
    "ranked_values = subset['episodes'].values\n",
    "score_values = subset['score'].values\n",
    "\n",
    "# Create a matrix 'table' using the first three values\n",
    "table = pd.DataFrame({'episodes': ranked_values, 'score': score_values})\n",
    "\n",
    "# Display the resulting table\n",
    "print(table)"
   ]
  },
  {
   "cell_type": "code",
   "execution_count": null,
   "metadata": {},
   "outputs": [],
   "source": [
    "# Extract observed values\n",
    "observed_table = table.values\n",
    "\n",
    "# Calculate expected values\n",
    "expected_row1 = np.sum(observed_table, axis=0) * np.sum(observed_table, axis=1)[0] / np.sum(observed_table)\n",
    "expected_row2 = np.sum(observed_table, axis=0) * np.sum(observed_table, axis=1)[1] / np.sum(observed_table)\n",
    "expected_table = np.vstack((expected_row1, expected_row2))\n",
    "\n",
    "print(expected_table)\n",
    "\n",
    "# Calculate the chi-squared statistic\n",
    "chi_squared_stat = np.sum((observed_table - expected_table)**2 / expected_table)\n",
    "print(\"Chi_sq_stat:\",chi_squared_stat)\n",
    "\n",
    "# Calculate degrees of freedom\n",
    "degrees_of_freedom = (observed_table.shape[0] - 1) * (observed_table.shape[1] - 1)\n",
    "print(\"DOF:\",degrees_of_freedom)\n",
    "\n",
    "# Critical value from the chi-squared distribution\n",
    "critical_value = 2.706\n",
    "print(\"Critical val:\",critical_value)"
   ]
  },
  {
   "cell_type": "code",
   "execution_count": null,
   "metadata": {},
   "outputs": [],
   "source": [
    "if chi_squared_stat > critical_value:\n",
    "    print(\"Reject the null hypothesis. There is a significant relationship between the variables.\")\n",
    "else:\n",
    "    print(\"Fail to reject the null hypothesis. There is no significant relationship between the variables.\")"
   ]
  },
  {
   "cell_type": "code",
   "execution_count": null,
   "metadata": {},
   "outputs": [],
   "source": [
    "# Yate's correction"
   ]
  },
  {
   "cell_type": "code",
   "execution_count": null,
   "metadata": {},
   "outputs": [],
   "source": [
    "yates_correction = 0.5\n",
    "corrected_observed_table = np.abs(observed_table - yates_correction)\n",
    "print(\"Observed Table:\\n\",corrected_observed_table)"
   ]
  },
  {
   "cell_type": "code",
   "execution_count": null,
   "metadata": {},
   "outputs": [],
   "source": [
    "# Calculate expected values with Yates' correction\n",
    "corrected_expected_row1 = np.sum(corrected_observed_table, axis=0) * np.sum(corrected_observed_table, axis=1)[0] / np.sum(corrected_observed_table)\n",
    "corrected_expected_row2 = np.sum(corrected_observed_table, axis=0) * np.sum(corrected_observed_table, axis=1)[1] / np.sum(corrected_observed_table)\n",
    "corrected_expected_table = np.vstack((corrected_expected_row1, corrected_expected_row2))\n",
    "print(\"Expected Table:\\n\",corrected_expected_table)\n",
    "\n",
    "# Calculate the chi-squared statistic with Yates' correction\n",
    "corrected_chi_squared_stat = np.sum((corrected_observed_table - corrected_expected_table)**2 / corrected_expected_table)\n",
    "print(\"Calculated value:\",corrected_chi_squared_stat)\n",
    "\n",
    "# Calculate degrees of freedom\n",
    "degrees_of_freedom = (observed_table.shape[0] - 1) * (observed_table.shape[1] - 1)\n",
    "print(\"DOF:\",degrees_of_freedom)\n",
    "\n",
    "# Critical value from the chi-squared distribution\n",
    "critical_value = 2.706\n",
    "print(\"Critical value:\",critical_value)"
   ]
  },
  {
   "cell_type": "code",
   "execution_count": null,
   "metadata": {},
   "outputs": [],
   "source": [
    "if corrected_chi_squared_stat > critical_value:\n",
    "    print(\"Reject the null hypothesis. There is a significant relationship between the variables (with Yates' correction).\")\n",
    "else:\n",
    "    print(\"Fail to reject the null hypothesis. There is no significant relationship between the variables (with Yates' correction).\")"
   ]
  }
 ],
 "metadata": {
  "kernelspec": {
   "display_name": "Python 3",
   "language": "python",
   "name": "python3"
  },
  "language_info": {
   "codemirror_mode": {
    "name": "ipython",
    "version": 3
   },
   "file_extension": ".py",
   "mimetype": "text/x-python",
   "name": "python",
   "nbconvert_exporter": "python",
   "pygments_lexer": "ipython3",
   "version": "3.10.6"
  }
 },
 "nbformat": 4,
 "nbformat_minor": 2
}
