{
 "cells": [
  {
   "cell_type": "code",
   "execution_count": null,
   "metadata": {},
   "outputs": [],
   "source": [
    "import pandas as pd\n",
    "import numpy as np"
   ]
  },
  {
   "cell_type": "code",
   "execution_count": null,
   "metadata": {},
   "outputs": [],
   "source": [
    "# Loading the main dataset before cleaning\n",
    "original = pd.read_csv('animes.csv')\n",
    "\n",
    "# Basic summary stats of Anime dataset\n",
    "print(\"Basic summary statastics : \\n\")\n",
    "print(original.info())"
   ]
  },
  {
   "cell_type": "code",
   "execution_count": null,
   "metadata": {},
   "outputs": [],
   "source": [
    "# Selecting the columns to keep in the desired dataset\n",
    "columns_to_keep = ['title', 'genre', 'aired', 'episodes', 'members', 'popularity', 'ranked', 'score']\n",
    "cleaned_df = original[columns_to_keep]\n",
    "\n",
    "# Removing rows with missing values in any column\n",
    "cleaned_df = cleaned_df.dropna()\n",
    "\n",
    "# Removing rows where the 'genre' column is an empty list\n",
    "cleaned_df = cleaned_df[cleaned_df['genre'].apply(lambda x: len(eval(x)) > 0)]\n",
    "\n",
    "# Removing duplicate entries, if any\n",
    "cleaned_df = cleaned_df.drop_duplicates()\n",
    "\n",
    "# Defining the number of samples\n",
    "num_samples = 300\n",
    "\n",
    "# Performing simple random sampling\n",
    "sampled_df = cleaned_df.sample(n=num_samples)\n",
    "\n",
    "# Saving the sampled and cleaned dataset to a CSV file\n",
    "sampled_df.to_csv('cleaned_dataset.csv', index=False)"
   ]
  },
  {
   "cell_type": "code",
   "execution_count": null,
   "metadata": {},
   "outputs": [],
   "source": [
    "# Load the cleaned dataset.\n",
    "cleaned = pd.read_csv('cleaned_dataset.csv')\n",
    "\n",
    "# Basic summary stats of cleaned sample dataset\n",
    "print(\"Basic summary statastics : \\n\")\n",
    "print(cleaned.info())"
   ]
  },
  {
   "cell_type": "code",
   "execution_count": null,
   "metadata": {},
   "outputs": [],
   "source": [
    "# Significance level for all below tests:\n",
    "alpha = 0.05"
   ]
  },
  {
   "cell_type": "code",
   "execution_count": null,
   "metadata": {},
   "outputs": [],
   "source": [
    "# One Sample Z-Test:"
   ]
  },
  {
   "cell_type": "code",
   "execution_count": null,
   "metadata": {},
   "outputs": [],
   "source": [
    "print(\"One sample z-test: \")\n",
    "\n",
    "print(\"The average score is more than 6.5. (claim)\")\n",
    "u = 6.5\n",
    "\n",
    "print(\"H0: u <= 6.5\\n\")\n",
    "print(\"H1: u > 6.5 (claim)\")"
   ]
  },
  {
   "cell_type": "code",
   "execution_count": null,
   "metadata": {},
   "outputs": [],
   "source": [
    "sample_size = 50\n",
    "sample_data = cleaned['score'].head(sample_size)\n",
    "sample_mean = sample_data.mean()\n",
    "sample_std = sample_data.std()\n",
    "print(\"The sample has mean \",sample_mean, \"and standard deviation \", sample_std, \".\")"
   ]
  },
  {
   "cell_type": "code",
   "execution_count": null,
   "metadata": {},
   "outputs": [],
   "source": [
    "z_cal = (sample_mean - u)/(sample_std/np.sqrt(sample_size))\n",
    "\n",
    "print(\"Z calculated is \", z_cal)"
   ]
  },
  {
   "cell_type": "code",
   "execution_count": null,
   "metadata": {},
   "outputs": [],
   "source": [
    "print(\"At significance level of 0.05, z tabulated for one tailed test is 1.645 .\")\n",
    "z_tab_positive = 1.645\n",
    "z_tab_negative = -1.645"
   ]
  },
  {
   "cell_type": "code",
   "execution_count": null,
   "metadata": {},
   "outputs": [],
   "source": [
    "if z_tab_negative < z_cal < z_tab_positive:\n",
    "    print(\"Accept H0. The mean score is less than 6.5.\")\n",
    "else:\n",
    "    print(\"Reject H0. The mean score is more than 6.5.\")"
   ]
  },
  {
   "cell_type": "code",
   "execution_count": null,
   "metadata": {},
   "outputs": [],
   "source": [
    "# Two Sample Z-Test:"
   ]
  },
  {
   "cell_type": "code",
   "execution_count": null,
   "metadata": {},
   "outputs": [],
   "source": [
    "print(\"Two sample z-test: \\n\")\n",
    "\n",
    "print(\"H0: u1 = u2\\n\")\n",
    "print(\"H1: u1 != u2\")"
   ]
  },
  {
   "cell_type": "code",
   "execution_count": null,
   "metadata": {},
   "outputs": [],
   "source": [
    "sample_data = cleaned[['popularity', 'score']].head(100)\n",
    "\n",
    "setA = sample_data.loc[sample_data['popularity'] > 10000, 'score'].tolist()\n",
    "print(\"Set A with popularity > 10000 : \",setA)\n",
    "n1 = len(setA)\n",
    "print(\"\\nn1: \",n1)\n",
    "\n",
    "setB = sample_data.loc[sample_data['popularity'] < 10000, 'score'].tolist()\n",
    "print(\"\\nSet B with popularity < 10000 : \",setB)\n",
    "n2 = len(setB)\n",
    "print(\"\\nn2: \",n2)"
   ]
  },
  {
   "cell_type": "code",
   "execution_count": null,
   "metadata": {},
   "outputs": [],
   "source": [
    "u1 = 5\n",
    "u2 = 7\n",
    "print(\"u1 = 5 and u2 = 7\")"
   ]
  },
  {
   "cell_type": "code",
   "execution_count": null,
   "metadata": {},
   "outputs": [],
   "source": [
    "sigma1 = np.std(setA)\n",
    "sigma2 = np.std(setB)\n",
    "\n",
    "print(\"Sigma1: \",sigma1,\" Sigma2: \",sigma2)"
   ]
  },
  {
   "cell_type": "code",
   "execution_count": null,
   "metadata": {},
   "outputs": [],
   "source": [
    "SDE = np.sqrt(((sigma1)**2/n1)+((sigma2)**2/n2))\n",
    "print(SDE)"
   ]
  },
  {
   "cell_type": "code",
   "execution_count": null,
   "metadata": {},
   "outputs": [],
   "source": [
    "x1 = np.mean(setA)\n",
    "x2 = np.mean(setB)\n",
    "\n",
    "print(\"X1: \", x1, \" X2: \", x2)"
   ]
  },
  {
   "cell_type": "code",
   "execution_count": null,
   "metadata": {},
   "outputs": [],
   "source": [
    "z_cal = (x1 - x2) - (u1 - u2) / SDE\n",
    "\n",
    "print(\"z calculated is \",z_cal)"
   ]
  },
  {
   "cell_type": "code",
   "execution_count": null,
   "metadata": {},
   "outputs": [],
   "source": [
    "z_tab_positive = 1.960\n",
    "z_tab_negative = -1.960\n",
    "\n",
    "print(\"z tab for two tailed test with significance level 0.05 is\", z_tab_positive)"
   ]
  },
  {
   "cell_type": "code",
   "execution_count": null,
   "metadata": {},
   "outputs": [],
   "source": [
    "if z_tab_negative < z_cal < z_tab_positive:\n",
    "    print(\"Accept H0. u1 = u2.\")\n",
    "else:\n",
    "    print(\"Reject H0. u1 != u2.\")"
   ]
  },
  {
   "cell_type": "code",
   "execution_count": null,
   "metadata": {},
   "outputs": [],
   "source": [
    "# One sample t-test:"
   ]
  },
  {
   "cell_type": "code",
   "execution_count": null,
   "metadata": {},
   "outputs": [],
   "source": [
    "print(\"One sample t-test: \")\n",
    "\n",
    "print(\"The average score is 5. (claim)\")\n",
    "u = 5\n",
    "\n",
    "print(\"H0: u = 5\\n\")\n",
    "print(\"H1: u != 5 (claim)\")"
   ]
  },
  {
   "cell_type": "code",
   "execution_count": null,
   "metadata": {},
   "outputs": [],
   "source": [
    "sample_size = 25\n",
    "sample_data = cleaned['score'].head(sample_size)\n",
    "sample_mean = sample_data.mean()\n",
    "sample_std = sample_data.std()\n",
    "print(\"The sample has mean\",sample_mean, \"and standard deviation\", sample_std, \".\")"
   ]
  },
  {
   "cell_type": "code",
   "execution_count": null,
   "metadata": {},
   "outputs": [],
   "source": [
    "t_cal = (sample_mean - u)/(sample_std/np.sqrt(sample_size))\n",
    "\n",
    "print(\"t calculated is\", z_cal)"
   ]
  },
  {
   "cell_type": "code",
   "execution_count": null,
   "metadata": {},
   "outputs": [],
   "source": [
    "print(\"At significance level of 0.05, and df = 25 - 1 = 24, t tabulated for two tailed test is 2.0639.\")\n",
    "t_tab_positive = 2.0639\n",
    "t_tab_negative = -2.0639"
   ]
  },
  {
   "cell_type": "code",
   "execution_count": null,
   "metadata": {},
   "outputs": [],
   "source": [
    "if t_tab_negative < t_cal < t_tab_positive:\n",
    "    print(\"Accept H0. The average score is 5.\")\n",
    "else:\n",
    "    print(\"Reject H0. The average score is not 5.\")"
   ]
  },
  {
   "cell_type": "code",
   "execution_count": null,
   "metadata": {},
   "outputs": [],
   "source": [
    "# Two sample t-test:"
   ]
  },
  {
   "cell_type": "code",
   "execution_count": null,
   "metadata": {},
   "outputs": [],
   "source": [
    "print(\"Two sample t-test: \\n\")\n",
    "\n",
    "print(\"H0: u1 = u2\\n\")\n",
    "print(\"H1: u1 != u2\")"
   ]
  },
  {
   "cell_type": "code",
   "execution_count": null,
   "metadata": {},
   "outputs": [],
   "source": [
    "sample_data = cleaned[['popularity', 'score']].head(40)\n",
    "\n",
    "setA = sample_data.loc[sample_data['popularity'] > 10000, 'score'].tolist()\n",
    "print(\"Set A with popularity > 10000 : \",setA)\n",
    "n1 = len(setA)\n",
    "print(\"\\nn1: \",n1)\n",
    "\n",
    "setB = sample_data.loc[sample_data['popularity'] < 10000, 'score'].tolist()\n",
    "print(\"\\nSet B with popularity < 10000 : \",setB)\n",
    "n2 = len(setB)\n",
    "print(\"\\nn2: \",n2)"
   ]
  },
  {
   "cell_type": "code",
   "execution_count": null,
   "metadata": {},
   "outputs": [],
   "source": [
    "s1 = np.std(setA)\n",
    "s2 = np.std(setB)\n",
    "\n",
    "print(\"S1: \",s1,\" S2: \",s2)"
   ]
  },
  {
   "cell_type": "code",
   "execution_count": null,
   "metadata": {},
   "outputs": [],
   "source": [
    "sp = np.sqrt(((n1 - 1)*(s1)**2 + (n2 - 1)*(s2)**2)/((n1 - 1) + (n2 - 1)))\n",
    "print(sp)"
   ]
  },
  {
   "cell_type": "code",
   "execution_count": null,
   "metadata": {},
   "outputs": [],
   "source": [
    "x1 = np.mean(setA)\n",
    "x2 = np.mean(setB)\n",
    "\n",
    "print(\"X1: \", x1, \" X2: \", x2)"
   ]
  },
  {
   "cell_type": "code",
   "execution_count": null,
   "metadata": {},
   "outputs": [],
   "source": [
    "t_cal = (x1 - x2) / (sp*(np.sqrt((1/n1)+(1/n2))))\n",
    "print(\"T calculated: \",t_cal)"
   ]
  },
  {
   "cell_type": "code",
   "execution_count": null,
   "metadata": {},
   "outputs": [],
   "source": [
    "print(\"At significance level of 0.05, and df = (17 - 1) + (23 - 1) = 38, t tabulated for one tailed test is 2.024 .\")\n",
    "t_tab_positive = 2.024\n",
    "t_tab_negative = -2.024"
   ]
  },
  {
   "cell_type": "code",
   "execution_count": null,
   "metadata": {},
   "outputs": [],
   "source": [
    "if t_tab_negative < t_cal < t_tab_positive:\n",
    "    print(\"Accept H0.\")\n",
    "else:\n",
    "    print(\"Reject H0.\")"
   ]
  },
  {
   "cell_type": "code",
   "execution_count": null,
   "metadata": {},
   "outputs": [],
   "source": [
    "# One sample z-test for proportions:"
   ]
  },
  {
   "cell_type": "code",
   "execution_count": null,
   "metadata": {},
   "outputs": [],
   "source": [
    "print(\"One sample z-test for proportions:\\n\")\n",
    "\n",
    "print(\"40 percent of the animes have more than 1 episodes. (claim)\\n\")\n",
    "\n",
    "print(\"H0: p = 0.4 (claim)\\n\")\n",
    "print(\"H1: p != 0.4\")\n",
    "p = 0.4\n",
    "q = 1 - p"
   ]
  },
  {
   "cell_type": "code",
   "execution_count": null,
   "metadata": {},
   "outputs": [],
   "source": [
    "sample_size = 100\n",
    "Np = sample_size * p\n",
    "Nq = sample_size * (1-p)\n",
    "\n",
    "if (Np > 5) and (Nq > 5):\n",
    "    print(\"Np and Nq verified.\")\n",
    "else:\n",
    "    print(\"Np and Nq condition not satisfied.\")"
   ]
  },
  {
   "cell_type": "code",
   "execution_count": null,
   "metadata": {},
   "outputs": [],
   "source": [
    "sample_data = cleaned['episodes'].head(100)\n",
    "\n",
    "# Count the anime with more than 1 episodes\n",
    "count = (sample_data > 1).sum()\n",
    "\n",
    "# Calculate the proportion\n",
    "p_cap = count / len(sample_data)\n",
    "\n",
    "print(\"Proportion of animes with more than 1 episodes:\", p_cap)\n"
   ]
  },
  {
   "cell_type": "code",
   "execution_count": null,
   "metadata": {},
   "outputs": [],
   "source": [
    "z_cal = (p_cap - p)/np.sqrt((p*q)/sample_size)\n",
    "print(\"z calculated:\",z_cal)"
   ]
  },
  {
   "cell_type": "code",
   "execution_count": null,
   "metadata": {},
   "outputs": [],
   "source": [
    "print(\"At significance level of 0.05, z tabulated for two tailed test is 1.96.\")\n",
    "z_tab_positive = 1.96\n",
    "z_tab_negative = -1.96"
   ]
  },
  {
   "cell_type": "code",
   "execution_count": null,
   "metadata": {},
   "outputs": [],
   "source": [
    "if z_tab_negative < z_cal < z_tab_positive:\n",
    "    print(\"Accept H0. 40 percent of the animes have more than 1 episodes.\\n\")\n",
    "else:\n",
    "    print(\"Reject H0. 40 percent of the animes do not have more than 1 episodes.\")"
   ]
  },
  {
   "cell_type": "code",
   "execution_count": null,
   "metadata": {},
   "outputs": [],
   "source": [
    "# Two sample z-test for proportions:"
   ]
  },
  {
   "cell_type": "code",
   "execution_count": null,
   "metadata": {},
   "outputs": [],
   "source": [
    "print(\"Two sample z-test for proportions:\\n\")\n",
    "\n",
    "print(\"There are more animes with episodes more than 5.\\n\")\n",
    "\n",
    "print(\"H0: p1 >= p2\\n\")\n",
    "print(\"H1: p1 < p2\")"
   ]
  },
  {
   "cell_type": "code",
   "execution_count": null,
   "metadata": {},
   "outputs": [],
   "source": [
    "sample_data = cleaned['episodes']\n",
    "n = len(sample_data)\n",
    "# Count the anime with more than 5 episodes\n",
    "count1 = (sample_data > 5).sum()\n",
    "\n",
    "# Count the anime with less than 5 episodes\n",
    "count2 = (sample_data <= 5).sum()\n",
    "\n",
    "# Calculate the proportion\n",
    "p = (count1 + count2) / (n+n)\n",
    "q = 1 - p\n",
    "\n",
    "print(\"p =\", p,\" and q =\", q)\n"
   ]
  },
  {
   "cell_type": "code",
   "execution_count": null,
   "metadata": {},
   "outputs": [],
   "source": [
    "p1_cap = count1 / n\n",
    "p2_cap = count2 / n\n",
    "print(\"p1_cap =\",p1_cap, \"and p2_cap =\", p2_cap)"
   ]
  },
  {
   "cell_type": "code",
   "execution_count": null,
   "metadata": {},
   "outputs": [],
   "source": [
    "z_cal = ((p1_cap - p2_cap) - 0) / np.sqrt(p*q*((1/n)+(1/n)))\n",
    "print(\"z calculated:\",z_cal)"
   ]
  },
  {
   "cell_type": "code",
   "execution_count": null,
   "metadata": {},
   "outputs": [],
   "source": [
    "z_tab_positive = 1.645\n",
    "z_tab_negative = -1.645\n",
    "print(\"z tabulated:\",z_tab_positive)"
   ]
  },
  {
   "cell_type": "code",
   "execution_count": null,
   "metadata": {},
   "outputs": [],
   "source": [
    "if z_tab_negative < z_cal < z_tab_positive :\n",
    "    print(\"Accept H0.\")\n",
    "else:\n",
    "    print(\"Reject H0.\")"
   ]
  }
 ],
 "metadata": {
  "kernelspec": {
   "display_name": "Python 3",
   "language": "python",
   "name": "python3"
  },
  "language_info": {
   "codemirror_mode": {
    "name": "ipython",
    "version": 3
   },
   "file_extension": ".py",
   "mimetype": "text/x-python",
   "name": "python",
   "nbconvert_exporter": "python",
   "pygments_lexer": "ipython3",
   "version": "3.10.6"
  }
 },
 "nbformat": 4,
 "nbformat_minor": 2
}
