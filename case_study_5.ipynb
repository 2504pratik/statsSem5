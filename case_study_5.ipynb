{
 "cells": [
  {
   "cell_type": "code",
   "execution_count": null,
   "metadata": {},
   "outputs": [],
   "source": [
    "import pandas as pd\n",
    "import numpy as np"
   ]
  },
  {
   "cell_type": "code",
   "execution_count": null,
   "metadata": {},
   "outputs": [],
   "source": [
    "anime_data = pd.read_csv('animes.csv')\n",
    "\n",
    "# confidence level 90%\n",
    "z_alpha = 1.645\n",
    "\n",
    "z_beta = 1.282 # for 90% power\n",
    "\n",
    "d = 5"
   ]
  },
  {
   "cell_type": "code",
   "execution_count": null,
   "metadata": {},
   "outputs": [],
   "source": [
    "subset_1 = anime_data['episodes']"
   ]
  },
  {
   "cell_type": "code",
   "execution_count": null,
   "metadata": {},
   "outputs": [],
   "source": [
    "std_deviation = np.std(subset_1)\n",
    "print(std_deviation)\n"
   ]
  },
  {
   "cell_type": "code",
   "execution_count": null,
   "metadata": {},
   "outputs": [],
   "source": [
    "# One sample - Sample Size Estimation"
   ]
  },
  {
   "cell_type": "code",
   "execution_count": null,
   "metadata": {},
   "outputs": [],
   "source": [
    "n=((z_alpha*std_deviation)/d)**2\n",
    "\n",
    "print(\"Sample size should be:\",round(n))"
   ]
  },
  {
   "cell_type": "code",
   "execution_count": null,
   "metadata": {},
   "outputs": [],
   "source": [
    "# Two sample - Sample Size Estimation"
   ]
  },
  {
   "cell_type": "code",
   "execution_count": null,
   "metadata": {},
   "outputs": [],
   "source": [
    "N = 4*std_deviation**2*(z_alpha+z_beta)**2/d\n",
    "\n",
    "print(\"total sample size should be:\",round(N))\n",
    "print(\"sample size of each group should be:\" ,round(N/2))"
   ]
  },
  {
   "cell_type": "code",
   "execution_count": null,
   "metadata": {},
   "outputs": [],
   "source": [
    "# Proportion Test One Sample"
   ]
  },
  {
   "cell_type": "code",
   "execution_count": null,
   "metadata": {},
   "outputs": [],
   "source": [
    "p=0.50\n",
    "q=1-p\n",
    "d = 0.1\n",
    "\n",
    "n=((z_alpha**2)*(p*q))/(d**2)\n",
    "\n",
    "print(\"Sample size should be:\",round(n))"
   ]
  },
  {
   "cell_type": "code",
   "execution_count": null,
   "metadata": {},
   "outputs": [],
   "source": [
    "# Proportion Test Two Sample"
   ]
  },
  {
   "cell_type": "code",
   "execution_count": null,
   "metadata": {},
   "outputs": [],
   "source": [
    "p1=0.70\n",
    "p2=0.50\n",
    "\n",
    "N=(4*((z_alpha+z_beta)**2)*((p1+p2)/2)*(1-((p1+p2)/2)))/((p1-p2)**2)\n",
    "\n",
    "print(\"Total sample size required is:\",round(N))\n",
    "print(\"Sample size required by each group is:\",round(N/2))"
   ]
  }
 ],
 "metadata": {
  "kernelspec": {
   "display_name": "Python 3",
   "language": "python",
   "name": "python3"
  },
  "language_info": {
   "codemirror_mode": {
    "name": "ipython",
    "version": 3
   },
   "file_extension": ".py",
   "mimetype": "text/x-python",
   "name": "python",
   "nbconvert_exporter": "python",
   "pygments_lexer": "ipython3",
   "version": "3.10.6"
  }
 },
 "nbformat": 4,
 "nbformat_minor": 2
}
